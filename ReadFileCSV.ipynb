{
 "cells": [
  {
   "cell_type": "code",
   "execution_count": 7,
   "id": "6b1171c5",
   "metadata": {},
   "outputs": [
    {
     "name": "stdout",
     "output_type": "stream",
     "text": [
      "sales_date customer_id amount\n",
      "\n",
      "01 Jan 21 Cust-1 50$\n",
      "\n",
      "02 Jan 21 Cust-1 50$\n",
      "\n",
      "03 Jan 21 Cust-1 50$\n",
      "\n",
      "01 Jan 21 Cust-2 100$\n",
      "\n",
      "02 Jan 21 Cust-2 100$\n",
      "\n",
      "03 Jan 21 Cust-2 100$\n",
      "\n",
      "01 Feb 21 Cust-2 -100$\n",
      "\n",
      "02 Feb 21 Cust-2 -100$\n",
      "\n",
      "03 Feb 21 Cust-2 -100$\n",
      "\n",
      "01 Mar 21 Cust-3 1$\n",
      "\n",
      "01 Apr 21 Cust-3 1$\n",
      "\n",
      "01 May 21 Cust-3 1$\n",
      "\n",
      "01 Jun 21 Cust-3 1$\n",
      "\n",
      "01 Jul 21 Cust-3 -1$\n",
      "\n",
      "01 Aug 21 Cust-3 -1$\n",
      "\n",
      "01 Sep 21 Cust-3 -1$\n",
      "\n",
      "01 Oct 21 Cust-3 -1$\n",
      "\n",
      "01 Nov 21 Cust-3 -1$\n",
      "\n",
      "01 Dec 21 Cust-3 -1$\n",
      "\n"
     ]
    }
   ],
   "source": [
    "with open(\"Input_original_data.csv\") as f:\n",
    "    line = f.readlines()\n",
    "    for li in line:\n",
    "        print(li.split(\",\")[0], li.split(\",\")[1], li.split(\",\")[2])\n",
    "f.close()\n"
   ]
  },
  {
   "cell_type": "code",
   "execution_count": 10,
   "id": "585620bb",
   "metadata": {},
   "outputs": [],
   "source": [
    "import pandas as pd\n",
    "df=pd.read_csv(\"Input_original_data.csv\")"
   ]
  },
  {
   "cell_type": "code",
   "execution_count": 11,
   "id": "70f11eda",
   "metadata": {},
   "outputs": [
    {
     "data": {
      "text/html": [
       "<div>\n",
       "<style scoped>\n",
       "    .dataframe tbody tr th:only-of-type {\n",
       "        vertical-align: middle;\n",
       "    }\n",
       "\n",
       "    .dataframe tbody tr th {\n",
       "        vertical-align: top;\n",
       "    }\n",
       "\n",
       "    .dataframe thead th {\n",
       "        text-align: right;\n",
       "    }\n",
       "</style>\n",
       "<table border=\"1\" class=\"dataframe\">\n",
       "  <thead>\n",
       "    <tr style=\"text-align: right;\">\n",
       "      <th></th>\n",
       "      <th>sales_date</th>\n",
       "      <th>customer_id</th>\n",
       "      <th>amount</th>\n",
       "    </tr>\n",
       "  </thead>\n",
       "  <tbody>\n",
       "    <tr>\n",
       "      <th>0</th>\n",
       "      <td>01 Jan 21</td>\n",
       "      <td>Cust-1</td>\n",
       "      <td>50$</td>\n",
       "    </tr>\n",
       "    <tr>\n",
       "      <th>1</th>\n",
       "      <td>02 Jan 21</td>\n",
       "      <td>Cust-1</td>\n",
       "      <td>50$</td>\n",
       "    </tr>\n",
       "    <tr>\n",
       "      <th>2</th>\n",
       "      <td>03 Jan 21</td>\n",
       "      <td>Cust-1</td>\n",
       "      <td>50$</td>\n",
       "    </tr>\n",
       "  </tbody>\n",
       "</table>\n",
       "</div>"
      ],
      "text/plain": [
       "  sales_date customer_id amount\n",
       "0  01 Jan 21      Cust-1    50$\n",
       "1  02 Jan 21      Cust-1    50$\n",
       "2  03 Jan 21      Cust-1    50$"
      ]
     },
     "execution_count": 11,
     "metadata": {},
     "output_type": "execute_result"
    }
   ],
   "source": [
    "df.head(3)"
   ]
  },
  {
   "cell_type": "code",
   "execution_count": 26,
   "id": "b16a33fa",
   "metadata": {},
   "outputs": [
    {
     "data": {
      "text/plain": [
       "'1'"
      ]
     },
     "execution_count": 26,
     "metadata": {},
     "output_type": "execute_result"
    }
   ],
   "source": [
    "df['amount'][12][:-1]"
   ]
  },
  {
   "cell_type": "code",
   "execution_count": null,
   "id": "023f342a",
   "metadata": {},
   "outputs": [],
   "source": []
  }
 ],
 "metadata": {
  "kernelspec": {
   "display_name": "Python 3 (ipykernel)",
   "language": "python",
   "name": "python3"
  },
  "language_info": {
   "codemirror_mode": {
    "name": "ipython",
    "version": 3
   },
   "file_extension": ".py",
   "mimetype": "text/x-python",
   "name": "python",
   "nbconvert_exporter": "python",
   "pygments_lexer": "ipython3",
   "version": "3.8.3"
  }
 },
 "nbformat": 4,
 "nbformat_minor": 5
}

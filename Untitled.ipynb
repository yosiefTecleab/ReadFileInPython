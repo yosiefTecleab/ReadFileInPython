{
 "cells": [
  {
   "cell_type": "code",
   "execution_count": 1,
   "id": "8cf95789",
   "metadata": {},
   "outputs": [
    {
     "name": "stdout",
     "output_type": "stream",
     "text": [
      "#332854\n"
     ]
    }
   ],
   "source": [
    "import random\n",
    "\n",
    "hex=[0,1, 2, 3, 4, 5, 6, 7, 8, 9,\"A\",\"B\",\"C\",\"D\",\"E\",\"F\"]\n",
    "\n",
    "#hex=[\"0\",\"1\",\"2\",\"3\",\"4\",\"5\",\"6\",\"7\",\"8\",\"9\",\"A\",\"B\",\"C\",\"D\",\"E\",\"F\"]\n",
    "#hex_num=\"#\"+random.choice(hex)+random.choice(hex)+random.choice(hex)+random.choice(hex)+random.choice(hex)\n",
    "\n",
    "hex_num=\"\"\n",
    "for repeat in range(6):\n",
    "    hex_num+=str(random.choice(hex))\n",
    "    \n",
    "\n",
    "print(\"#\"+ hex_num)\n",
    "\n"
   ]
  },
  {
   "cell_type": "code",
   "execution_count": 6,
   "id": "66d78f96",
   "metadata": {},
   "outputs": [
    {
     "name": "stdout",
     "output_type": "stream",
     "text": [
      "#4554BD\n"
     ]
    }
   ],
   "source": [
    "#or use random choicesssss a multiple\n",
    "\n",
    "from functools import reduce\n",
    "\n",
    "hex_number=random.choices(hex, k=6)\n",
    "\n",
    "conc=reduce(lambda x,y : str(x)+str(y), hex_number)\n",
    "\n",
    "print(\"#\"+conc)"
   ]
  },
  {
   "cell_type": "code",
   "execution_count": 10,
   "id": "b7780528",
   "metadata": {},
   "outputs": [
    {
     "name": "stdout",
     "output_type": "stream",
     "text": [
      "4AFD32\n",
      "hex num 87421F has color \n"
     ]
    }
   ],
   "source": [
    "dict={}\n",
    "\n",
    "with open(\"HEX_COLOR - Sheet1.tsv\", \"r+\")as f:\n",
    "    line=f.read()\n",
    "    read_line=line.split(\"\\n\")\n",
    "   \n",
    "    for lin in read_line:\n",
    "        color_name=lin.split(\"\\t\")[0].lower()\n",
    "        \n",
    "        \n",
    "        #hex_num=lin.split(\"\\t\")[1].upper().strip()\n",
    "        dict[hex_num]=color_name\n",
    "        \n",
    "        \n",
    "        #print(hex_num)\n",
    "    \n",
    "f.close()\n",
    "\n",
    "\n",
    "import random\n",
    "\n",
    "hex=[0,1, 2, 3, 4, 5, 6, 7, 8, 9,\"A\",\"B\",\"C\",\"D\",\"E\",\"F\"]\n",
    "\n",
    "\n",
    "hex_num=\"\"\n",
    "for repeat in range(6):\n",
    "    hex_num+=str(random.choice(hex))\n",
    "    \n",
    "#hex_num=\"FFFF99\"\n",
    "print(hex_num)\n",
    "\n",
    "hex_num2=\"\"\n",
    "key_lst=[]\n",
    "\n",
    "for key in dict:\n",
    "    key_lst.append(key)\n",
    "    \n",
    "hex_num2=random.choice(key_lst)\n",
    "\n",
    "\n",
    "#print(hex_num2)\n",
    "\n",
    "\n",
    "#random hex_num find its name\n",
    "for key in dict:\n",
    "    key.strip()\n",
    "    if key == hex_num2:\n",
    "        print(f'hex num {key} has color {dict[key]}')\n",
    "\n",
    "\n"
   ]
  },
  {
   "cell_type": "code",
   "execution_count": null,
   "id": "9acc2508",
   "metadata": {},
   "outputs": [],
   "source": []
  },
  {
   "cell_type": "code",
   "execution_count": null,
   "id": "e0bc348a",
   "metadata": {},
   "outputs": [],
   "source": []
  }
 ],
 "metadata": {
  "kernelspec": {
   "display_name": "Python 3 (ipykernel)",
   "language": "python",
   "name": "python3"
  },
  "language_info": {
   "codemirror_mode": {
    "name": "ipython",
    "version": 3
   },
   "file_extension": ".py",
   "mimetype": "text/x-python",
   "name": "python",
   "nbconvert_exporter": "python",
   "pygments_lexer": "ipython3",
   "version": "3.8.3"
  }
 },
 "nbformat": 4,
 "nbformat_minor": 5
}

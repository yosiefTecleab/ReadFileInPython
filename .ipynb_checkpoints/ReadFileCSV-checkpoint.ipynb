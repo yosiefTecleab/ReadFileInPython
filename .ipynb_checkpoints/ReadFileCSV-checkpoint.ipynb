{
 "cells": [
  {
   "cell_type": "code",
   "execution_count": 6,
   "id": "aa21f6d3",
   "metadata": {},
   "outputs": [
    {
     "name": "stdout",
     "output_type": "stream",
     "text": [
      "sales_datecustomer_idamount\n",
      "\n",
      "01 Jan 21Cust-150$\n",
      "\n",
      "02 Jan 21Cust-150$\n",
      "\n",
      "03 Jan 21Cust-150$\n",
      "\n",
      "01 Jan 21Cust-2100$\n",
      "\n",
      "02 Jan 21Cust-2100$\n",
      "\n",
      "03 Jan 21Cust-2100$\n",
      "\n",
      "01 Feb 21Cust-2-100$\n",
      "\n",
      "02 Feb 21Cust-2-100$\n",
      "\n",
      "03 Feb 21Cust-2-100$\n",
      "\n",
      "01 Mar 21Cust-31$\n",
      "\n",
      "01 Apr 21Cust-31$\n",
      "\n",
      "01 May 21Cust-31$\n",
      "\n",
      "01 Jun 21Cust-31$\n",
      "\n",
      "01 Jul 21Cust-3-1$\n",
      "\n",
      "01 Aug 21Cust-3-1$\n",
      "\n",
      "01 Sep 21Cust-3-1$\n",
      "\n",
      "01 Oct 21Cust-3-1$\n",
      "\n",
      "01 Nov 21Cust-3-1$\n",
      "\n",
      "01 Dec 21Cust-3-1$\n",
      "\n"
     ]
    }
   ],
   "source": [
    "with open(\"Input_original_data.csv\") as f:\n",
    "    line = f.readlines()\n",
    "    for li in line:\n",
    "        print(li.split(\",\")[0], li.split(\",\")[1], li.split(\",\")[2])\n",
    "f.close()\n"
   ]
  },
  {
   "cell_type": "code",
   "execution_count": null,
   "id": "67efaf13",
   "metadata": {},
   "outputs": [],
   "source": []
  },
  {
   "cell_type": "code",
   "execution_count": null,
   "id": "1040cc1d",
   "metadata": {},
   "outputs": [],
   "source": []
  },
  {
   "cell_type": "code",
   "execution_count": null,
   "id": "e12fd8db",
   "metadata": {},
   "outputs": [],
   "source": []
  },
  {
   "cell_type": "code",
   "execution_count": null,
   "id": "56829ba9",
   "metadata": {},
   "outputs": [],
   "source": []
  }
 ],
 "metadata": {
  "kernelspec": {
   "display_name": "Python 3 (ipykernel)",
   "language": "python",
   "name": "python3"
  },
  "language_info": {
   "codemirror_mode": {
    "name": "ipython",
    "version": 3
   },
   "file_extension": ".py",
   "mimetype": "text/x-python",
   "name": "python",
   "nbconvert_exporter": "python",
   "pygments_lexer": "ipython3",
   "version": "3.8.3"
  }
 },
 "nbformat": 4,
 "nbformat_minor": 5
}
